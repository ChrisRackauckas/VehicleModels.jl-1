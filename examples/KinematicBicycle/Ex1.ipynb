{
 "cells": [
  {
   "cell_type": "code",
   "execution_count": null,
   "metadata": {
    "collapsed": true
   },
   "outputs": [],
   "source": [
    "  # define targets [generic values]\n",
    "  x_ref   = 210 # TODO pull this out\n",
    "  y_ref   = 100\n",
    "  @defVar( mdl, x[1:(N+1)] )\n",
    "  @defVar( mdl, y[1:(N+1)] )\n",
    "  @defVar( mdl, psi[1:(N+1)] )\n",
    "  @defVar( mdl, v[1:(N+1)] )\n",
    "  @defVar( mdl, a[1:N] )\n",
    "  @defVar( mdl, d_f[1:N] )\n",
    "\n",
    "  # define objective function TODO pull this out\n",
    "  @setNLObjective(mdl, Min, (x[N+1] - x_ref)^2 + (y[N+1] - y_ref)^2 )\n",
    "\n",
    "  # Reference: R.Rajamani, Vehicle Dynamics and Control, set. Mechanical Engineering Series,\n",
    "  #               Spring, 2011, page 26\n",
    "  @defNLParam(mdl, x0     == 200); @addNLConstraint(mdl, x[1]     == x0);\n",
    "  @defNLParam(mdl, y0     == 0); @addNLConstraint(mdl, y[1]     == y0);\n",
    "  @defNLParam(mdl, psi0   == 0); @addNLConstraint(mdl, psi[1]   == psi0 );\n",
    "  @defNLParam(mdl, v0     == 0); @addNLConstraint(mdl, v[1]     == v0);\n",
    "  @defNLExpr(mdl, bta[i = 1:N], atan( L_a / (L_a + L_b) * tan(d_f[i]) ) )"
   ]
  }
 ],
 "metadata": {
  "anaconda-cloud": {},
  "kernelspec": {
   "display_name": "Julia 0.5.0",
   "language": "julia",
   "name": "julia-0.5"
  },
  "language_info": {
   "file_extension": ".jl",
   "mimetype": "application/julia",
   "name": "julia",
   "version": "0.5.0"
  }
 },
 "nbformat": 4,
 "nbformat_minor": 1
}
